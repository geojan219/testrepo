{
 "cells": [
  {
   "cell_type": "markdown",
   "metadata": {},
   "source": [
    "# Data Science Tools and Ecosystem"
   ]
  },
  {
   "cell_type": "markdown",
   "metadata": {},
   "source": [
    "In this notebook, Data Science Tools and Ecosystem are summarized"
   ]
  },
  {
   "cell_type": "markdown",
   "metadata": {},
   "source": [
    "**Objective:**\n",
    "1. Create a New Juypter notebook names Data Science Ecosystem.\n",
    "2. Familiarize with the process of creating a new notebook.\n",
    "3. Understand the importance of naming conventions for notwbooks.\n",
    "4. Practice the initial steps required for starting a data science project.\n",
    "5. Gain hands-on experience in using Juypter Notebooks for document creation and code execution."
   ]
  },
  {
   "cell_type": "markdown",
   "metadata": {},
   "source": [
    "Some of the popular language that Data Scientist use are:\n",
    "\n",
    "    1. Python\n",
    "    2. R\n",
    "    3. Julia\n",
    "    4. SQL"
   ]
  },
  {
   "cell_type": "markdown",
   "metadata": {},
   "source": [
    "Some of the commonly used libraries used by Data Scientist include:\n",
    "\n",
    "    1. NumPy\n",
    "    2. Pandas\n",
    "    3. Matplotlib\n",
    "    4. Tensorflow\n",
    "    5. PyTorch"
   ]
  },
  {
   "cell_type": "markdown",
   "metadata": {},
   "source": [
    "|Data Science Tools|\n",
    "------------------\n",
    "|Juypter Notebook|\n",
    "|RStudio|\n",
    "|VS Code with Python|"
   ]
  },
  {
   "cell_type": "markdown",
   "metadata": {},
   "source": [
    "### Below are a few examples of avaluating arithmetic expressions in Python"
   ]
  },
  {
   "cell_type": "markdown",
   "metadata": {},
   "source": [
    "This is a simple arithmetic expression to multiply then add intergers"
   ]
  }
 ],
 "metadata": {
  "kernelspec": {
   "display_name": "Python 3",
   "language": "python",
   "name": "python3"
  },
  "language_info": {
   "name": "python",
   "version": "3.9.13"
  }
 },
 "nbformat": 4,
 "nbformat_minor": 2
}
