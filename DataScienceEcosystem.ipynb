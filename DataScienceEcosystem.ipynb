{
 "cells": [
  {
   "cell_type": "markdown",
   "id": "7fb3f5e1",
   "metadata": {},
   "source": [
    "# Data Science Tools and Ecosystem"
   ]
  },
  {
   "cell_type": "markdown",
   "id": "0f063b78",
   "metadata": {},
   "source": [
    "In this notebook, Data Science Tools and Ecosystem are summarized"
   ]
  },
  {
   "cell_type": "markdown",
   "id": "68d213dd",
   "metadata": {},
   "source": [
    "**Objective:**\n",
    "1. Create a New Juypter notebook names Data Science Ecosystem.\n",
    "2. Familiarize with the process of creating a new notebook.\n",
    "3. Understand the importance of naming conventions for notwbooks.\n",
    "4. Practice the initial steps required for starting a data science project.\n",
    "5. Gain hands-on experience in using Juypter Notebooks for document creation and code execution."
   ]
  },
  {
   "cell_type": "markdown",
   "id": "660b3070",
   "metadata": {},
   "source": [
    "Some of the popular language that Data Scientist use are:\n",
    "\n",
    "    1. Python\n",
    "    2. R\n",
    "    3. Julia\n",
    "    4. SQL"
   ]
  },
  {
   "cell_type": "markdown",
   "id": "0a296a9f",
   "metadata": {},
   "source": [
    "Some of the commonly used libraries used by Data Scientist include:\n",
    "\n",
    "    1. NumPy\n",
    "    2. Pandas\n",
    "    3. Matplotlib\n",
    "    4. Tensorflow\n",
    "    5. PyTorch"
   ]
  },
  {
   "cell_type": "markdown",
   "id": "326112d0",
   "metadata": {},
   "source": [
    "|Data Science Tools|\n",
    "---------------------------\n",
    "|Juypter Notebook|\n",
    "|RStudio|\n",
    "|VS Code with Python|\n"
   ]
  },
  {
   "cell_type": "markdown",
   "id": "50f8514f",
   "metadata": {},
   "source": [
    "### Below are a few examples of avaluating arithmetic expressions in Python"
   ]
  },
  {
   "cell_type": "markdown",
   "id": "0c1707e3",
   "metadata": {},
   "source": [
    "This is a simple arithmetic expression to multiply then add intergers"
   ]
  },
  {
   "cell_type": "markdown",
   "id": "ce749401",
   "metadata": {},
   "source": [
    "This will convert 200 minutes to hours by dividing by 60"
   ]
  },
  {
   "cell_type": "markdown",
   "id": "6cbe9349",
   "metadata": {},
   "source": [
    "## Author:\n",
    "\n",
    "Jane George"
   ]
  }
 ],
 "metadata": {
  "kernelspec": {
   "display_name": "Python 3 (ipykernel)",
   "language": "python",
   "name": "python3"
  },
  "language_info": {
   "codemirror_mode": {
    "name": "ipython",
    "version": 3
   },
   "file_extension": ".py",
   "mimetype": "text/x-python",
   "name": "python",
   "nbconvert_exporter": "python",
   "pygments_lexer": "ipython3",
   "version": "3.9.13"
  }
 },
 "nbformat": 4,
 "nbformat_minor": 5
}
